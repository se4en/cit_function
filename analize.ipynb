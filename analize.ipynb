{
 "cells": [
  {
   "cell_type": "code",
   "execution_count": 27,
   "id": "thorough-month",
   "metadata": {},
   "outputs": [],
   "source": [
    "import numpy as np\n",
    "import pandas as pd"
   ]
  },
  {
   "cell_type": "code",
   "execution_count": 1,
   "id": "turkish-astrology",
   "metadata": {},
   "outputs": [],
   "source": [
    "from sklearn.ensemble import RandomForestClassifier\n",
    "from sklearn.model_selection import cross_val_score, train_test_split, GridSearchCV\n",
    "from sklearn.metrics import f1_score\n",
    "from sklearn.linear_model import LogisticRegression\n",
    "import lightgbm as lgb"
   ]
  },
  {
   "cell_type": "code",
   "execution_count": 40,
   "id": "strategic-danger",
   "metadata": {},
   "outputs": [],
   "source": [
    "with open('features.pickle', 'rb') as f:\n",
    "    features = pickle.load(f)"
   ]
  },
  {
   "cell_type": "code",
   "execution_count": 181,
   "id": "knowing-weather",
   "metadata": {},
   "outputs": [],
   "source": [
    "df = pd.DataFrame.from_dict(features, orient='index')"
   ]
  },
  {
   "cell_type": "code",
   "execution_count": 182,
   "id": "available-gauge",
   "metadata": {
    "scrolled": false
   },
   "outputs": [
    {
     "data": {
      "text/html": [
       "<div>\n",
       "<style scoped>\n",
       "    .dataframe tbody tr th:only-of-type {\n",
       "        vertical-align: middle;\n",
       "    }\n",
       "\n",
       "    .dataframe tbody tr th {\n",
       "        vertical-align: top;\n",
       "    }\n",
       "\n",
       "    .dataframe thead th {\n",
       "        text-align: right;\n",
       "    }\n",
       "</style>\n",
       "<table border=\"1\" class=\"dataframe\">\n",
       "  <thead>\n",
       "    <tr style=\"text-align: right;\">\n",
       "      <th></th>\n",
       "      <th>citation_density</th>\n",
       "      <th>year_difference</th>\n",
       "      <th>citing_location</th>\n",
       "      <th>citation_frequency</th>\n",
       "      <th>other_citations</th>\n",
       "      <th>self_reference</th>\n",
       "      <th>word</th>\n",
       "      <th>model</th>\n",
       "      <th>system</th>\n",
       "      <th>feature</th>\n",
       "      <th>...</th>\n",
       "      <th>input</th>\n",
       "      <th>described</th>\n",
       "      <th>large</th>\n",
       "      <th>well</th>\n",
       "      <th>value</th>\n",
       "      <th>processing</th>\n",
       "      <th>machine</th>\n",
       "      <th>linguistics</th>\n",
       "      <th>context</th>\n",
       "      <th>class</th>\n",
       "    </tr>\n",
       "  </thead>\n",
       "  <tbody>\n",
       "    <tr>\n",
       "      <th>P05-3005-T1</th>\n",
       "      <td>0</td>\n",
       "      <td>3.0</td>\n",
       "      <td>0.110616</td>\n",
       "      <td>1</td>\n",
       "      <td>1</td>\n",
       "      <td>False</td>\n",
       "      <td>False</td>\n",
       "      <td>False</td>\n",
       "      <td>True</td>\n",
       "      <td>False</td>\n",
       "      <td>...</td>\n",
       "      <td>False</td>\n",
       "      <td>False</td>\n",
       "      <td>False</td>\n",
       "      <td>False</td>\n",
       "      <td>False</td>\n",
       "      <td>True</td>\n",
       "      <td>False</td>\n",
       "      <td>False</td>\n",
       "      <td>False</td>\n",
       "      <td>Uses</td>\n",
       "    </tr>\n",
       "    <tr>\n",
       "      <th>P05-3005-T2</th>\n",
       "      <td>0</td>\n",
       "      <td>2.0</td>\n",
       "      <td>0.110616</td>\n",
       "      <td>1</td>\n",
       "      <td>2</td>\n",
       "      <td>False</td>\n",
       "      <td>False</td>\n",
       "      <td>False</td>\n",
       "      <td>True</td>\n",
       "      <td>False</td>\n",
       "      <td>...</td>\n",
       "      <td>False</td>\n",
       "      <td>False</td>\n",
       "      <td>False</td>\n",
       "      <td>False</td>\n",
       "      <td>False</td>\n",
       "      <td>True</td>\n",
       "      <td>False</td>\n",
       "      <td>False</td>\n",
       "      <td>False</td>\n",
       "      <td>Uses</td>\n",
       "    </tr>\n",
       "    <tr>\n",
       "      <th>P05-3005-T3</th>\n",
       "      <td>0</td>\n",
       "      <td>5.0</td>\n",
       "      <td>0.169938</td>\n",
       "      <td>1</td>\n",
       "      <td>4</td>\n",
       "      <td>False</td>\n",
       "      <td>False</td>\n",
       "      <td>False</td>\n",
       "      <td>True</td>\n",
       "      <td>False</td>\n",
       "      <td>...</td>\n",
       "      <td>False</td>\n",
       "      <td>False</td>\n",
       "      <td>False</td>\n",
       "      <td>True</td>\n",
       "      <td>False</td>\n",
       "      <td>False</td>\n",
       "      <td>True</td>\n",
       "      <td>False</td>\n",
       "      <td>False</td>\n",
       "      <td>Uses</td>\n",
       "    </tr>\n",
       "    <tr>\n",
       "      <th>P05-3005-T4</th>\n",
       "      <td>0</td>\n",
       "      <td>4.0</td>\n",
       "      <td>0.169938</td>\n",
       "      <td>1</td>\n",
       "      <td>3</td>\n",
       "      <td>False</td>\n",
       "      <td>False</td>\n",
       "      <td>False</td>\n",
       "      <td>True</td>\n",
       "      <td>False</td>\n",
       "      <td>...</td>\n",
       "      <td>False</td>\n",
       "      <td>False</td>\n",
       "      <td>False</td>\n",
       "      <td>True</td>\n",
       "      <td>False</td>\n",
       "      <td>False</td>\n",
       "      <td>True</td>\n",
       "      <td>False</td>\n",
       "      <td>False</td>\n",
       "      <td>Background</td>\n",
       "    </tr>\n",
       "    <tr>\n",
       "      <th>P05-3005-T5</th>\n",
       "      <td>0</td>\n",
       "      <td>NaN</td>\n",
       "      <td>0.169938</td>\n",
       "      <td>1</td>\n",
       "      <td>4</td>\n",
       "      <td>False</td>\n",
       "      <td>False</td>\n",
       "      <td>False</td>\n",
       "      <td>True</td>\n",
       "      <td>False</td>\n",
       "      <td>...</td>\n",
       "      <td>False</td>\n",
       "      <td>False</td>\n",
       "      <td>False</td>\n",
       "      <td>True</td>\n",
       "      <td>False</td>\n",
       "      <td>False</td>\n",
       "      <td>True</td>\n",
       "      <td>False</td>\n",
       "      <td>False</td>\n",
       "      <td>Uses</td>\n",
       "    </tr>\n",
       "    <tr>\n",
       "      <th>...</th>\n",
       "      <td>...</td>\n",
       "      <td>...</td>\n",
       "      <td>...</td>\n",
       "      <td>...</td>\n",
       "      <td>...</td>\n",
       "      <td>...</td>\n",
       "      <td>...</td>\n",
       "      <td>...</td>\n",
       "      <td>...</td>\n",
       "      <td>...</td>\n",
       "      <td>...</td>\n",
       "      <td>...</td>\n",
       "      <td>...</td>\n",
       "      <td>...</td>\n",
       "      <td>...</td>\n",
       "      <td>...</td>\n",
       "      <td>...</td>\n",
       "      <td>...</td>\n",
       "      <td>...</td>\n",
       "      <td>...</td>\n",
       "      <td>...</td>\n",
       "    </tr>\n",
       "    <tr>\n",
       "      <th>D09-1056-T21</th>\n",
       "      <td>7</td>\n",
       "      <td>1.0</td>\n",
       "      <td>0.271579</td>\n",
       "      <td>1</td>\n",
       "      <td>1</td>\n",
       "      <td>False</td>\n",
       "      <td>True</td>\n",
       "      <td>False</td>\n",
       "      <td>False</td>\n",
       "      <td>True</td>\n",
       "      <td>...</td>\n",
       "      <td>False</td>\n",
       "      <td>False</td>\n",
       "      <td>False</td>\n",
       "      <td>False</td>\n",
       "      <td>False</td>\n",
       "      <td>False</td>\n",
       "      <td>False</td>\n",
       "      <td>False</td>\n",
       "      <td>False</td>\n",
       "      <td>Uses</td>\n",
       "    </tr>\n",
       "    <tr>\n",
       "      <th>D09-1056-T22</th>\n",
       "      <td>1</td>\n",
       "      <td>1.0</td>\n",
       "      <td>0.415088</td>\n",
       "      <td>1</td>\n",
       "      <td>3</td>\n",
       "      <td>False</td>\n",
       "      <td>False</td>\n",
       "      <td>True</td>\n",
       "      <td>True</td>\n",
       "      <td>True</td>\n",
       "      <td>...</td>\n",
       "      <td>False</td>\n",
       "      <td>False</td>\n",
       "      <td>False</td>\n",
       "      <td>False</td>\n",
       "      <td>False</td>\n",
       "      <td>False</td>\n",
       "      <td>True</td>\n",
       "      <td>False</td>\n",
       "      <td>False</td>\n",
       "      <td>Background</td>\n",
       "    </tr>\n",
       "    <tr>\n",
       "      <th>D09-1056-T23</th>\n",
       "      <td>2</td>\n",
       "      <td>5.0</td>\n",
       "      <td>0.052456</td>\n",
       "      <td>1</td>\n",
       "      <td>3</td>\n",
       "      <td>False</td>\n",
       "      <td>False</td>\n",
       "      <td>False</td>\n",
       "      <td>False</td>\n",
       "      <td>False</td>\n",
       "      <td>...</td>\n",
       "      <td>False</td>\n",
       "      <td>False</td>\n",
       "      <td>False</td>\n",
       "      <td>False</td>\n",
       "      <td>False</td>\n",
       "      <td>False</td>\n",
       "      <td>False</td>\n",
       "      <td>False</td>\n",
       "      <td>False</td>\n",
       "      <td>Uses</td>\n",
       "    </tr>\n",
       "    <tr>\n",
       "      <th>D09-1056-T24</th>\n",
       "      <td>9</td>\n",
       "      <td>2.0</td>\n",
       "      <td>0.218772</td>\n",
       "      <td>1</td>\n",
       "      <td>2</td>\n",
       "      <td>False</td>\n",
       "      <td>True</td>\n",
       "      <td>False</td>\n",
       "      <td>False</td>\n",
       "      <td>True</td>\n",
       "      <td>...</td>\n",
       "      <td>False</td>\n",
       "      <td>False</td>\n",
       "      <td>False</td>\n",
       "      <td>False</td>\n",
       "      <td>False</td>\n",
       "      <td>False</td>\n",
       "      <td>False</td>\n",
       "      <td>False</td>\n",
       "      <td>False</td>\n",
       "      <td>Background</td>\n",
       "    </tr>\n",
       "    <tr>\n",
       "      <th>W10-1710-T1</th>\n",
       "      <td>2</td>\n",
       "      <td>0.0</td>\n",
       "      <td>0.802548</td>\n",
       "      <td>1</td>\n",
       "      <td>3</td>\n",
       "      <td>False</td>\n",
       "      <td>True</td>\n",
       "      <td>False</td>\n",
       "      <td>False</td>\n",
       "      <td>False</td>\n",
       "      <td>...</td>\n",
       "      <td>False</td>\n",
       "      <td>False</td>\n",
       "      <td>False</td>\n",
       "      <td>False</td>\n",
       "      <td>False</td>\n",
       "      <td>False</td>\n",
       "      <td>False</td>\n",
       "      <td>False</td>\n",
       "      <td>False</td>\n",
       "      <td>Motivation</td>\n",
       "    </tr>\n",
       "  </tbody>\n",
       "</table>\n",
       "<p>2234 rows × 107 columns</p>\n",
       "</div>"
      ],
      "text/plain": [
       "              citation_density  year_difference  citing_location  \\\n",
       "P05-3005-T1                  0              3.0         0.110616   \n",
       "P05-3005-T2                  0              2.0         0.110616   \n",
       "P05-3005-T3                  0              5.0         0.169938   \n",
       "P05-3005-T4                  0              4.0         0.169938   \n",
       "P05-3005-T5                  0              NaN         0.169938   \n",
       "...                        ...              ...              ...   \n",
       "D09-1056-T21                 7              1.0         0.271579   \n",
       "D09-1056-T22                 1              1.0         0.415088   \n",
       "D09-1056-T23                 2              5.0         0.052456   \n",
       "D09-1056-T24                 9              2.0         0.218772   \n",
       "W10-1710-T1                  2              0.0         0.802548   \n",
       "\n",
       "              citation_frequency  other_citations   self_reference   word  \\\n",
       "P05-3005-T1                    1                 1           False  False   \n",
       "P05-3005-T2                    1                 2           False  False   \n",
       "P05-3005-T3                    1                 4           False  False   \n",
       "P05-3005-T4                    1                 3           False  False   \n",
       "P05-3005-T5                    1                 4           False  False   \n",
       "...                          ...               ...             ...    ...   \n",
       "D09-1056-T21                   1                 1           False   True   \n",
       "D09-1056-T22                   1                 3           False  False   \n",
       "D09-1056-T23                   1                 3           False  False   \n",
       "D09-1056-T24                   1                 2           False   True   \n",
       "W10-1710-T1                    1                 3           False   True   \n",
       "\n",
       "              model  system  feature  ...  input  described  large   well  \\\n",
       "P05-3005-T1   False    True    False  ...  False      False  False  False   \n",
       "P05-3005-T2   False    True    False  ...  False      False  False  False   \n",
       "P05-3005-T3   False    True    False  ...  False      False  False   True   \n",
       "P05-3005-T4   False    True    False  ...  False      False  False   True   \n",
       "P05-3005-T5   False    True    False  ...  False      False  False   True   \n",
       "...             ...     ...      ...  ...    ...        ...    ...    ...   \n",
       "D09-1056-T21  False   False     True  ...  False      False  False  False   \n",
       "D09-1056-T22   True    True     True  ...  False      False  False  False   \n",
       "D09-1056-T23  False   False    False  ...  False      False  False  False   \n",
       "D09-1056-T24  False   False     True  ...  False      False  False  False   \n",
       "W10-1710-T1   False   False    False  ...  False      False  False  False   \n",
       "\n",
       "              value  processing  machine  linguistics  context       class  \n",
       "P05-3005-T1   False        True    False        False    False        Uses  \n",
       "P05-3005-T2   False        True    False        False    False        Uses  \n",
       "P05-3005-T3   False       False     True        False    False        Uses  \n",
       "P05-3005-T4   False       False     True        False    False  Background  \n",
       "P05-3005-T5   False       False     True        False    False        Uses  \n",
       "...             ...         ...      ...          ...      ...         ...  \n",
       "D09-1056-T21  False       False    False        False    False        Uses  \n",
       "D09-1056-T22  False       False     True        False    False  Background  \n",
       "D09-1056-T23  False       False    False        False    False        Uses  \n",
       "D09-1056-T24  False       False    False        False    False  Background  \n",
       "W10-1710-T1   False       False    False        False    False  Motivation  \n",
       "\n",
       "[2234 rows x 107 columns]"
      ]
     },
     "execution_count": 182,
     "metadata": {},
     "output_type": "execute_result"
    }
   ],
   "source": [
    "df"
   ]
  },
  {
   "cell_type": "code",
   "execution_count": 183,
   "id": "animated-welcome",
   "metadata": {},
   "outputs": [],
   "source": [
    "clean_df = df[(df['class'] != 'Unknown') & (df['class'] != 'Reference') & (df['class'] != 'Prior')]"
   ]
  },
  {
   "cell_type": "code",
   "execution_count": 184,
   "id": "willing-devices",
   "metadata": {},
   "outputs": [
    {
     "data": {
      "text/plain": [
       "Background              802\n",
       "Uses                    310\n",
       "Compares & Contrasts    286\n",
       "Motivation               84\n",
       "Future                   63\n",
       "Extends                  21\n",
       "Name: class, dtype: int64"
      ]
     },
     "execution_count": 184,
     "metadata": {},
     "output_type": "execute_result"
    }
   ],
   "source": [
    "clean_df['class'].value_counts()"
   ]
  },
  {
   "cell_type": "code",
   "execution_count": 185,
   "id": "handy-saturn",
   "metadata": {},
   "outputs": [
    {
     "name": "stderr",
     "output_type": "stream",
     "text": [
      "/home/dmitry/ml/lib/python3.8/site-packages/pandas/core/frame.py:3188: SettingWithCopyWarning: \n",
      "A value is trying to be set on a copy of a slice from a DataFrame.\n",
      "Try using .loc[row_indexer,col_indexer] = value instead\n",
      "\n",
      "See the caveats in the documentation: https://pandas.pydata.org/pandas-docs/stable/user_guide/indexing.html#returning-a-view-versus-a-copy\n",
      "  self[k1] = value[k2]\n"
     ]
    }
   ],
   "source": [
    "stacked = clean_df[['class']].stack()\n",
    "clean_df[['class']] = pd.Series(stacked.factorize()[0], index=stacked.index).unstack()"
   ]
  },
  {
   "cell_type": "code",
   "execution_count": 186,
   "id": "correct-bunny",
   "metadata": {},
   "outputs": [],
   "source": [
    "clean_df = clean_df.fillna(df.mean())"
   ]
  },
  {
   "cell_type": "code",
   "execution_count": 187,
   "id": "allied-middle",
   "metadata": {},
   "outputs": [
    {
     "data": {
      "text/html": [
       "<div>\n",
       "<style scoped>\n",
       "    .dataframe tbody tr th:only-of-type {\n",
       "        vertical-align: middle;\n",
       "    }\n",
       "\n",
       "    .dataframe tbody tr th {\n",
       "        vertical-align: top;\n",
       "    }\n",
       "\n",
       "    .dataframe thead th {\n",
       "        text-align: right;\n",
       "    }\n",
       "</style>\n",
       "<table border=\"1\" class=\"dataframe\">\n",
       "  <thead>\n",
       "    <tr style=\"text-align: right;\">\n",
       "      <th></th>\n",
       "      <th>citation_density</th>\n",
       "      <th>year_difference</th>\n",
       "      <th>citing_location</th>\n",
       "      <th>citation_frequency</th>\n",
       "      <th>other_citations</th>\n",
       "      <th>class</th>\n",
       "    </tr>\n",
       "  </thead>\n",
       "  <tbody>\n",
       "    <tr>\n",
       "      <th>count</th>\n",
       "      <td>1566.000000</td>\n",
       "      <td>1566.000000</td>\n",
       "      <td>1566.000000</td>\n",
       "      <td>1566.000000</td>\n",
       "      <td>1566.000000</td>\n",
       "      <td>1566.000000</td>\n",
       "    </tr>\n",
       "    <tr>\n",
       "      <th>mean</th>\n",
       "      <td>3.363985</td>\n",
       "      <td>6.040420</td>\n",
       "      <td>0.377990</td>\n",
       "      <td>2.078544</td>\n",
       "      <td>4.160920</td>\n",
       "      <td>1.293103</td>\n",
       "    </tr>\n",
       "    <tr>\n",
       "      <th>std</th>\n",
       "      <td>3.418473</td>\n",
       "      <td>6.323509</td>\n",
       "      <td>0.271195</td>\n",
       "      <td>1.555643</td>\n",
       "      <td>4.032412</td>\n",
       "      <td>1.128902</td>\n",
       "    </tr>\n",
       "    <tr>\n",
       "      <th>min</th>\n",
       "      <td>0.000000</td>\n",
       "      <td>0.000000</td>\n",
       "      <td>0.009445</td>\n",
       "      <td>1.000000</td>\n",
       "      <td>0.000000</td>\n",
       "      <td>0.000000</td>\n",
       "    </tr>\n",
       "    <tr>\n",
       "      <th>25%</th>\n",
       "      <td>1.000000</td>\n",
       "      <td>2.000000</td>\n",
       "      <td>0.133419</td>\n",
       "      <td>1.000000</td>\n",
       "      <td>2.000000</td>\n",
       "      <td>1.000000</td>\n",
       "    </tr>\n",
       "    <tr>\n",
       "      <th>50%</th>\n",
       "      <td>2.000000</td>\n",
       "      <td>4.000000</td>\n",
       "      <td>0.307391</td>\n",
       "      <td>1.000000</td>\n",
       "      <td>3.000000</td>\n",
       "      <td>1.000000</td>\n",
       "    </tr>\n",
       "    <tr>\n",
       "      <th>75%</th>\n",
       "      <td>5.000000</td>\n",
       "      <td>8.000000</td>\n",
       "      <td>0.603016</td>\n",
       "      <td>3.000000</td>\n",
       "      <td>5.000000</td>\n",
       "      <td>2.000000</td>\n",
       "    </tr>\n",
       "    <tr>\n",
       "      <th>max</th>\n",
       "      <td>19.000000</td>\n",
       "      <td>56.000000</td>\n",
       "      <td>0.939097</td>\n",
       "      <td>10.000000</td>\n",
       "      <td>41.000000</td>\n",
       "      <td>5.000000</td>\n",
       "    </tr>\n",
       "  </tbody>\n",
       "</table>\n",
       "</div>"
      ],
      "text/plain": [
       "       citation_density  year_difference  citing_location  citation_frequency  \\\n",
       "count       1566.000000      1566.000000      1566.000000         1566.000000   \n",
       "mean           3.363985         6.040420         0.377990            2.078544   \n",
       "std            3.418473         6.323509         0.271195            1.555643   \n",
       "min            0.000000         0.000000         0.009445            1.000000   \n",
       "25%            1.000000         2.000000         0.133419            1.000000   \n",
       "50%            2.000000         4.000000         0.307391            1.000000   \n",
       "75%            5.000000         8.000000         0.603016            3.000000   \n",
       "max           19.000000        56.000000         0.939097           10.000000   \n",
       "\n",
       "       other_citations         class  \n",
       "count       1566.000000  1566.000000  \n",
       "mean           4.160920     1.293103  \n",
       "std            4.032412     1.128902  \n",
       "min            0.000000     0.000000  \n",
       "25%            2.000000     1.000000  \n",
       "50%            3.000000     1.000000  \n",
       "75%            5.000000     2.000000  \n",
       "max           41.000000     5.000000  "
      ]
     },
     "execution_count": 187,
     "metadata": {},
     "output_type": "execute_result"
    }
   ],
   "source": [
    "clean_df.describe()"
   ]
  },
  {
   "cell_type": "code",
   "execution_count": 188,
   "id": "defensive-submission",
   "metadata": {},
   "outputs": [
    {
     "data": {
      "text/plain": [
       "(1566, 107)"
      ]
     },
     "execution_count": 188,
     "metadata": {},
     "output_type": "execute_result"
    }
   ],
   "source": [
    "clean_df.shape"
   ]
  },
  {
   "cell_type": "code",
   "execution_count": 189,
   "id": "formal-hurricane",
   "metadata": {},
   "outputs": [],
   "source": [
    "indexes_of_categories = list(clean_df.columns)[5:-1]"
   ]
  },
  {
   "cell_type": "code",
   "execution_count": 190,
   "id": "neural-stephen",
   "metadata": {},
   "outputs": [],
   "source": [
    "X, y = clean_df.iloc[:, :-1], clean_df.iloc[:, -1] "
   ]
  },
  {
   "cell_type": "code",
   "execution_count": 256,
   "id": "hired-commons",
   "metadata": {},
   "outputs": [],
   "source": [
    "def plot_importance(importances):\n",
    "    indices = np.flipud(np.argsort(importances)[::-1][:10])\n",
    "    feature_names = list(clean_df.columns)[:-1]\n",
    "    \n",
    "    plt.title('Feature Importances')\n",
    "    plt.barh(range(len(indices)), importances[indices], color='b', align='center')\n",
    "    plt.yticks(range(len(indices)), [feature_names[i] for i in indices])\n",
    "    plt.show()"
   ]
  },
  {
   "cell_type": "markdown",
   "id": "textile-connection",
   "metadata": {},
   "source": [
    "#### Random forest"
   ]
  },
  {
   "cell_type": "code",
   "execution_count": 214,
   "id": "adapted-fighter",
   "metadata": {},
   "outputs": [],
   "source": [
    "param_grid_rf = {\n",
    "    'n_estimators': [20, 40, 60, 100, 120],\n",
    "    'max_depth': [10, 15, 20, 100]\n",
    "    }"
   ]
  },
  {
   "cell_type": "code",
   "execution_count": 215,
   "id": "cordless-anthony",
   "metadata": {},
   "outputs": [],
   "source": [
    "def get_best_rf(metric, param_grid):\n",
    "    best_score = 0\n",
    "    best_params = None\n",
    "    best_model = None\n",
    "    \n",
    "    for n in param_grid['n_estimators']:\n",
    "        for max_d in param_grid['max_depth']:\n",
    "            params = {\n",
    "                'n_estimators' : n,\n",
    "                'max_depth' : max_d\n",
    "            }\n",
    "            clf = RandomForestClassifier(**params)\n",
    "            cur_score = np.mean(cross_val_score(clf, X, y, scoring=metric, cv=5))\n",
    "            if cur_score > best_score:\n",
    "                best_score = cur_score\n",
    "                best_params = params\n",
    "                best_model = clf\n",
    "    return best_score, best_params, best_model"
   ]
  },
  {
   "cell_type": "code",
   "execution_count": 216,
   "id": "stable-fundamentals",
   "metadata": {},
   "outputs": [],
   "source": [
    "rf_macro_score, rf_macro_params, rf_macro_clf = get_best_rf('f1_macro', param_grid_rf)"
   ]
  },
  {
   "cell_type": "code",
   "execution_count": 219,
   "id": "starting-blond",
   "metadata": {},
   "outputs": [
    {
     "data": {
      "text/plain": [
       "(0.14746474250250566, {'n_estimators': 20, 'max_depth': 20})"
      ]
     },
     "execution_count": 219,
     "metadata": {},
     "output_type": "execute_result"
    }
   ],
   "source": [
    "rf_macro_score, rf_macro_params"
   ]
  },
  {
   "cell_type": "code",
   "execution_count": 218,
   "id": "lesser-dating",
   "metadata": {},
   "outputs": [],
   "source": [
    "rf_micro_score, rf_micro_params, rf_micro_clf = get_best_rf('f1_micro', param_grid_rf)"
   ]
  },
  {
   "cell_type": "code",
   "execution_count": 220,
   "id": "linear-arbor",
   "metadata": {},
   "outputs": [
    {
     "data": {
      "text/plain": [
       "(0.501288130074683, {'n_estimators': 120, 'max_depth': 10})"
      ]
     },
     "execution_count": 220,
     "metadata": {},
     "output_type": "execute_result"
    }
   ],
   "source": [
    "rf_micro_score, rf_micro_params"
   ]
  },
  {
   "cell_type": "code",
   "execution_count": 243,
   "id": "fatty-clearing",
   "metadata": {},
   "outputs": [
    {
     "data": {
      "text/plain": [
       "RandomForestClassifier(max_depth=10, n_estimators=120)"
      ]
     },
     "execution_count": 243,
     "metadata": {},
     "output_type": "execute_result"
    }
   ],
   "source": [
    "rf_micro_clf.fit(X, y)"
   ]
  },
  {
   "cell_type": "code",
   "execution_count": 257,
   "id": "powered-definition",
   "metadata": {},
   "outputs": [
    {
     "data": {
      "image/png": "[encoded data removed]",
      "text/plain": [
       "<Figure size 432x288 with 1 Axes>"
      ]
     },
     "metadata": {
      "needs_background": "light"
     },
     "output_type": "display_data"
    }
   ],
   "source": [
    "plot_importance(rf_micro_clf.feature_importances_)"
   ]
  },
  {
   "cell_type": "markdown",
   "id": "promotional-miracle",
   "metadata": {},
   "source": [
    "#### LightGBM"
   ]
  },
  {
   "cell_type": "code",
   "execution_count": 222,
   "id": "specialized-dallas",
   "metadata": {},
   "outputs": [],
   "source": [
    "param_grid_lgb = {\n",
    "    'n_estimators': [20, 40, 60, 100, 140],\n",
    "    'max_depth': [10, 15, 20, 120],\n",
    "    'num_leaves': [6, 10, 20, 30],\n",
    "    'learning_rate': [0.01, 0.05, 0.1, 0.5, 1.0]\n",
    "    }"
   ]
  },
  {
   "cell_type": "code",
   "execution_count": 224,
   "id": "subject-nicholas",
   "metadata": {},
   "outputs": [],
   "source": [
    "def get_best_lgb(metric, param_grid):\n",
    "    best_score = 0\n",
    "    best_params = None\n",
    "    best_model = None\n",
    "    \n",
    "    for n in param_grid['n_estimators']:\n",
    "        for max_d in param_grid['max_depth']:\n",
    "            for num_l in param_grid['num_leaves']:\n",
    "                for lr in param_grid['learning_rate']:\n",
    "                    params = {\n",
    "                        'n_estimators' : n,\n",
    "                        'max_depth' : max_d,\n",
    "                        'num_leaves' : num_l,\n",
    "                        'learning_rate' : lr, \n",
    "                    }\n",
    "                    clf = lgb.LGBMClassifier(**params)\n",
    "                    cur_score = np.mean(cross_val_score(clf, X, y, scoring=metric, cv=5))\n",
    "                    if cur_score > best_score:\n",
    "                        best_score = cur_score\n",
    "                        best_params = params\n",
    "                        best_model = clf\n",
    "    return best_score, best_params, best_model"
   ]
  },
  {
   "cell_type": "code",
   "execution_count": 225,
   "id": "funded-lease",
   "metadata": {},
   "outputs": [],
   "source": [
    "lgb_macro_score, lgb_macro_params, lgb_macro_clf = get_best_lgb('f1_macro', param_grid)"
   ]
  },
  {
   "cell_type": "code",
   "execution_count": 226,
   "id": "bored-label",
   "metadata": {},
   "outputs": [
    {
     "data": {
      "text/plain": [
       "(0.20292716715379028,\n",
       " {'n_estimators': 20, 'max_depth': 10, 'num_leaves': 6, 'learning_rate': 1.0})"
      ]
     },
     "execution_count": 226,
     "metadata": {},
     "output_type": "execute_result"
    }
   ],
   "source": [
    "lgb_macro_score, lgb_macro_params"
   ]
  },
  {
   "cell_type": "code",
   "execution_count": 227,
   "id": "presidential-collector",
   "metadata": {},
   "outputs": [],
   "source": [
    "lgb_micro_score, lgb_micro_params, lgb_micro_clf = get_best_lgb('f1_micro', param_grid)"
   ]
  },
  {
   "cell_type": "code",
   "execution_count": 228,
   "id": "continuing-words",
   "metadata": {},
   "outputs": [
    {
     "data": {
      "text/plain": [
       "(0.5140473331841029,\n",
       " {'n_estimators': 60,\n",
       "  'max_depth': 15,\n",
       "  'num_leaves': 30,\n",
       "  'learning_rate': 0.01})"
      ]
     },
     "execution_count": 228,
     "metadata": {},
     "output_type": "execute_result"
    }
   ],
   "source": [
    "lgb_micro_score, lgb_micro_params"
   ]
  },
  {
   "cell_type": "code",
   "execution_count": 258,
   "id": "improving-control",
   "metadata": {},
   "outputs": [
    {
     "data": {
      "text/plain": [
       "LGBMClassifier(learning_rate=0.01, max_depth=15, n_estimators=60, num_leaves=30)"
      ]
     },
     "execution_count": 258,
     "metadata": {},
     "output_type": "execute_result"
    }
   ],
   "source": [
    "lgb_micro_clf.fit(X, y)"
   ]
  },
  {
   "cell_type": "code",
   "execution_count": 259,
   "id": "bottom-fetish",
   "metadata": {},
   "outputs": [
    {
     "data": {
      "image/png": "[encoded data removed]",
      "text/plain": [
       "<Figure size 432x288 with 1 Axes>"
      ]
     },
     "metadata": {
      "needs_background": "light"
     },
     "output_type": "display_data"
    }
   ],
   "source": [
    "plot_importance(lgb_micro_clf.feature_importances_)"
   ]
  },
  {
   "cell_type": "markdown",
   "id": "central-toner",
   "metadata": {},
   "source": [
    "#### Log reg"
   ]
  },
  {
   "cell_type": "code",
   "execution_count": 237,
   "id": "soviet-fishing",
   "metadata": {},
   "outputs": [],
   "source": [
    "reg_clf = LogisticRegression(solver='lbfgs', max_iter=1000)"
   ]
  },
  {
   "cell_type": "code",
   "execution_count": 239,
   "id": "loved-mineral",
   "metadata": {},
   "outputs": [
    {
     "data": {
      "text/plain": [
       "0.1977675017053236"
      ]
     },
     "execution_count": 239,
     "metadata": {},
     "output_type": "execute_result"
    }
   ],
   "source": [
    "np.mean(cross_val_score(reg_clf, X, y, scoring='f1_macro', cv=5))"
   ]
  },
  {
   "cell_type": "code",
   "execution_count": 240,
   "id": "grand-cooking",
   "metadata": {},
   "outputs": [
    {
     "data": {
      "text/plain": [
       "0.4349056795751003"
      ]
     },
     "execution_count": 240,
     "metadata": {},
     "output_type": "execute_result"
    }
   ],
   "source": [
    "np.mean(cross_val_score(reg_clf, X, y, scoring='f1_micro', cv=5))"
   ]
  },
  {
   "cell_type": "code",
   "execution_count": null,
   "id": "excessive-airplane",
   "metadata": {},
   "outputs": [],
   "source": []
  }
 ],
 "metadata": {
  "kernelspec": {
   "display_name": "Python 3",
   "language": "python",
   "name": "python3"
  },
  "language_info": {
   "codemirror_mode": {
    "name": "ipython",
    "version": 3
   },
   "file_extension": ".py",
   "mimetype": "text/x-python",
   "name": "python",
   "nbconvert_exporter": "python",
   "pygments_lexer": "ipython3",
   "version": "3.8.5"
  }
 },
 "nbformat": 4,
 "nbformat_minor": 5
}
